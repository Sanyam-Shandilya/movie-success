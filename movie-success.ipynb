{
 "cells": [
  {
   "cell_type": "code",
   "execution_count": 1,
   "metadata": {
    "_cell_guid": "b1076dfc-b9ad-4769-8c92-a6c4dae69d19",
    "_uuid": "8f2839f25d086af736a60e9eeb907d3b93b6e0e5",
    "execution": {
     "iopub.execute_input": "2021-01-25T21:15:56.667607Z",
     "iopub.status.busy": "2021-01-25T21:15:56.666910Z",
     "iopub.status.idle": "2021-01-25T21:15:56.679512Z",
     "shell.execute_reply": "2021-01-25T21:15:56.680116Z"
    },
    "papermill": {
     "duration": 0.043312,
     "end_time": "2021-01-25T21:15:56.680317",
     "exception": false,
     "start_time": "2021-01-25T21:15:56.637005",
     "status": "completed"
    },
    "tags": []
   },
   "outputs": [],
   "source": [
    "import numpy as np\n",
    "import pandas as pd"
   ]
  },
  {
   "cell_type": "code",
   "execution_count": 2,
   "metadata": {},
   "outputs": [
    {
     "name": "stdout",
     "output_type": "stream",
     "text": [
      "C:\\Users\\Administrator\\Desktop\\internship\n"
     ]
    }
   ],
   "source": [
    "cd \"C:\\Users\\Administrator\\Desktop\\internship\"\n"
   ]
  },
  {
   "cell_type": "code",
   "execution_count": 3,
   "metadata": {
    "execution": {
     "iopub.execute_input": "2021-01-25T21:15:56.730808Z",
     "iopub.status.busy": "2021-01-25T21:15:56.730102Z",
     "iopub.status.idle": "2021-01-25T21:15:56.759914Z",
     "shell.execute_reply": "2021-01-25T21:15:56.760508Z"
    },
    "papermill": {
     "duration": 0.05778,
     "end_time": "2021-01-25T21:15:56.760658",
     "exception": false,
     "start_time": "2021-01-25T21:15:56.702878",
     "status": "completed"
    },
    "tags": []
   },
   "outputs": [],
   "source": [
    "df = pd.read_csv('movie_success_rate.csv')"
   ]
  },
  {
   "cell_type": "code",
   "execution_count": 4,
   "metadata": {
    "execution": {
     "iopub.execute_input": "2021-01-25T21:15:56.808861Z",
     "iopub.status.busy": "2021-01-25T21:15:56.808168Z",
     "iopub.status.idle": "2021-01-25T21:15:56.816197Z",
     "shell.execute_reply": "2021-01-25T21:15:56.815219Z"
    },
    "papermill": {
     "duration": 0.033894,
     "end_time": "2021-01-25T21:15:56.816366",
     "exception": false,
     "start_time": "2021-01-25T21:15:56.782472",
     "status": "completed"
    },
    "tags": []
   },
   "outputs": [
    {
     "data": {
      "text/plain": [
       "(839, 33)"
      ]
     },
     "execution_count": 4,
     "metadata": {},
     "output_type": "execute_result"
    }
   ],
   "source": [
    "df.shape"
   ]
  },
  {
   "cell_type": "code",
   "execution_count": 5,
   "metadata": {
    "execution": {
     "iopub.execute_input": "2021-01-25T21:15:56.865250Z",
     "iopub.status.busy": "2021-01-25T21:15:56.864553Z",
     "iopub.status.idle": "2021-01-25T21:15:56.907721Z",
     "shell.execute_reply": "2021-01-25T21:15:56.908238Z"
    },
    "papermill": {
     "duration": 0.068561,
     "end_time": "2021-01-25T21:15:56.908396",
     "exception": false,
     "start_time": "2021-01-25T21:15:56.839835",
     "status": "completed"
    },
    "tags": []
   },
   "outputs": [
    {
     "data": {
      "text/html": [
       "<div>\n",
       "<style scoped>\n",
       "    .dataframe tbody tr th:only-of-type {\n",
       "        vertical-align: middle;\n",
       "    }\n",
       "\n",
       "    .dataframe tbody tr th {\n",
       "        vertical-align: top;\n",
       "    }\n",
       "\n",
       "    .dataframe thead th {\n",
       "        text-align: right;\n",
       "    }\n",
       "</style>\n",
       "<table border=\"1\" class=\"dataframe\">\n",
       "  <thead>\n",
       "    <tr style=\"text-align: right;\">\n",
       "      <th></th>\n",
       "      <th>Rank</th>\n",
       "      <th>Title</th>\n",
       "      <th>Genre</th>\n",
       "      <th>Description</th>\n",
       "      <th>Director</th>\n",
       "      <th>Actors</th>\n",
       "      <th>Year</th>\n",
       "      <th>Runtime (Minutes)</th>\n",
       "      <th>Rating</th>\n",
       "      <th>Votes</th>\n",
       "      <th>...</th>\n",
       "      <th>Music</th>\n",
       "      <th>Musical</th>\n",
       "      <th>Mystery</th>\n",
       "      <th>Romance</th>\n",
       "      <th>Sci-Fi</th>\n",
       "      <th>Sport</th>\n",
       "      <th>Thriller</th>\n",
       "      <th>War</th>\n",
       "      <th>Western</th>\n",
       "      <th>Success</th>\n",
       "    </tr>\n",
       "  </thead>\n",
       "  <tbody>\n",
       "    <tr>\n",
       "      <th>0</th>\n",
       "      <td>1.0</td>\n",
       "      <td>Guardians of the Galaxy</td>\n",
       "      <td>Action,Adventure,Sci-Fi</td>\n",
       "      <td>A group of intergalactic criminals are forced ...</td>\n",
       "      <td>James Gunn</td>\n",
       "      <td>Chris Pratt, Vin Diesel, Bradley Cooper, Zoe S...</td>\n",
       "      <td>2014.0</td>\n",
       "      <td>121.0</td>\n",
       "      <td>8.1</td>\n",
       "      <td>757074.0</td>\n",
       "      <td>...</td>\n",
       "      <td>0.0</td>\n",
       "      <td>0.0</td>\n",
       "      <td>0.0</td>\n",
       "      <td>0.0</td>\n",
       "      <td>1.0</td>\n",
       "      <td>0.0</td>\n",
       "      <td>0.0</td>\n",
       "      <td>0.0</td>\n",
       "      <td>0.0</td>\n",
       "      <td>1.0</td>\n",
       "    </tr>\n",
       "    <tr>\n",
       "      <th>1</th>\n",
       "      <td>2.0</td>\n",
       "      <td>Prometheus</td>\n",
       "      <td>Adventure,Mystery,Sci-Fi</td>\n",
       "      <td>Following clues to the origin of mankind, a te...</td>\n",
       "      <td>Ridley Scott</td>\n",
       "      <td>Noomi Rapace, Logan Marshall-Green, Michael Fa...</td>\n",
       "      <td>2012.0</td>\n",
       "      <td>124.0</td>\n",
       "      <td>7.0</td>\n",
       "      <td>485820.0</td>\n",
       "      <td>...</td>\n",
       "      <td>0.0</td>\n",
       "      <td>0.0</td>\n",
       "      <td>1.0</td>\n",
       "      <td>0.0</td>\n",
       "      <td>1.0</td>\n",
       "      <td>0.0</td>\n",
       "      <td>0.0</td>\n",
       "      <td>0.0</td>\n",
       "      <td>0.0</td>\n",
       "      <td>1.0</td>\n",
       "    </tr>\n",
       "    <tr>\n",
       "      <th>2</th>\n",
       "      <td>3.0</td>\n",
       "      <td>Split</td>\n",
       "      <td>Horror,Thriller</td>\n",
       "      <td>Three girls are kidnapped by a man with a diag...</td>\n",
       "      <td>M. Night Shyamalan</td>\n",
       "      <td>James McAvoy, Anya Taylor-Joy, Haley Lu Richar...</td>\n",
       "      <td>2016.0</td>\n",
       "      <td>117.0</td>\n",
       "      <td>7.3</td>\n",
       "      <td>157606.0</td>\n",
       "      <td>...</td>\n",
       "      <td>0.0</td>\n",
       "      <td>0.0</td>\n",
       "      <td>0.0</td>\n",
       "      <td>0.0</td>\n",
       "      <td>0.0</td>\n",
       "      <td>0.0</td>\n",
       "      <td>1.0</td>\n",
       "      <td>0.0</td>\n",
       "      <td>0.0</td>\n",
       "      <td>0.0</td>\n",
       "    </tr>\n",
       "    <tr>\n",
       "      <th>3</th>\n",
       "      <td>4.0</td>\n",
       "      <td>Sing</td>\n",
       "      <td>Animation,Comedy,Family</td>\n",
       "      <td>In a city of humanoid animals, a hustling thea...</td>\n",
       "      <td>Christophe Lourdelet</td>\n",
       "      <td>Matthew McConaughey,Reese Witherspoon, Seth Ma...</td>\n",
       "      <td>2016.0</td>\n",
       "      <td>108.0</td>\n",
       "      <td>7.2</td>\n",
       "      <td>60545.0</td>\n",
       "      <td>...</td>\n",
       "      <td>0.0</td>\n",
       "      <td>0.0</td>\n",
       "      <td>0.0</td>\n",
       "      <td>0.0</td>\n",
       "      <td>0.0</td>\n",
       "      <td>0.0</td>\n",
       "      <td>0.0</td>\n",
       "      <td>0.0</td>\n",
       "      <td>0.0</td>\n",
       "      <td>0.0</td>\n",
       "    </tr>\n",
       "    <tr>\n",
       "      <th>4</th>\n",
       "      <td>5.0</td>\n",
       "      <td>Suicide Squad</td>\n",
       "      <td>Action,Adventure,Fantasy</td>\n",
       "      <td>A secret government agency recruits some of th...</td>\n",
       "      <td>David Ayer</td>\n",
       "      <td>Will Smith, Jared Leto, Margot Robbie, Viola D...</td>\n",
       "      <td>2016.0</td>\n",
       "      <td>123.0</td>\n",
       "      <td>6.2</td>\n",
       "      <td>393727.0</td>\n",
       "      <td>...</td>\n",
       "      <td>0.0</td>\n",
       "      <td>0.0</td>\n",
       "      <td>0.0</td>\n",
       "      <td>0.0</td>\n",
       "      <td>0.0</td>\n",
       "      <td>0.0</td>\n",
       "      <td>0.0</td>\n",
       "      <td>0.0</td>\n",
       "      <td>0.0</td>\n",
       "      <td>0.0</td>\n",
       "    </tr>\n",
       "  </tbody>\n",
       "</table>\n",
       "<p>5 rows × 33 columns</p>\n",
       "</div>"
      ],
      "text/plain": [
       "   Rank                    Title                     Genre  \\\n",
       "0   1.0  Guardians of the Galaxy   Action,Adventure,Sci-Fi   \n",
       "1   2.0               Prometheus  Adventure,Mystery,Sci-Fi   \n",
       "2   3.0                    Split           Horror,Thriller   \n",
       "3   4.0                     Sing   Animation,Comedy,Family   \n",
       "4   5.0            Suicide Squad  Action,Adventure,Fantasy   \n",
       "\n",
       "                                         Description              Director  \\\n",
       "0  A group of intergalactic criminals are forced ...            James Gunn   \n",
       "1  Following clues to the origin of mankind, a te...          Ridley Scott   \n",
       "2  Three girls are kidnapped by a man with a diag...    M. Night Shyamalan   \n",
       "3  In a city of humanoid animals, a hustling thea...  Christophe Lourdelet   \n",
       "4  A secret government agency recruits some of th...            David Ayer   \n",
       "\n",
       "                                              Actors    Year  \\\n",
       "0  Chris Pratt, Vin Diesel, Bradley Cooper, Zoe S...  2014.0   \n",
       "1  Noomi Rapace, Logan Marshall-Green, Michael Fa...  2012.0   \n",
       "2  James McAvoy, Anya Taylor-Joy, Haley Lu Richar...  2016.0   \n",
       "3  Matthew McConaughey,Reese Witherspoon, Seth Ma...  2016.0   \n",
       "4  Will Smith, Jared Leto, Margot Robbie, Viola D...  2016.0   \n",
       "\n",
       "   Runtime (Minutes)  Rating     Votes  ...  Music  Musical  Mystery  Romance  \\\n",
       "0              121.0     8.1  757074.0  ...    0.0      0.0      0.0      0.0   \n",
       "1              124.0     7.0  485820.0  ...    0.0      0.0      1.0      0.0   \n",
       "2              117.0     7.3  157606.0  ...    0.0      0.0      0.0      0.0   \n",
       "3              108.0     7.2   60545.0  ...    0.0      0.0      0.0      0.0   \n",
       "4              123.0     6.2  393727.0  ...    0.0      0.0      0.0      0.0   \n",
       "\n",
       "   Sci-Fi  Sport  Thriller  War  Western  Success  \n",
       "0     1.0    0.0       0.0  0.0      0.0      1.0  \n",
       "1     1.0    0.0       0.0  0.0      0.0      1.0  \n",
       "2     0.0    0.0       1.0  0.0      0.0      0.0  \n",
       "3     0.0    0.0       0.0  0.0      0.0      0.0  \n",
       "4     0.0    0.0       0.0  0.0      0.0      0.0  \n",
       "\n",
       "[5 rows x 33 columns]"
      ]
     },
     "execution_count": 5,
     "metadata": {},
     "output_type": "execute_result"
    }
   ],
   "source": [
    "df.head()"
   ]
  },
  {
   "cell_type": "code",
   "execution_count": 6,
   "metadata": {
    "execution": {
     "iopub.execute_input": "2021-01-25T21:15:56.963677Z",
     "iopub.status.busy": "2021-01-25T21:15:56.962701Z",
     "iopub.status.idle": "2021-01-25T21:15:56.967944Z",
     "shell.execute_reply": "2021-01-25T21:15:56.967339Z"
    },
    "papermill": {
     "duration": 0.035711,
     "end_time": "2021-01-25T21:15:56.968103",
     "exception": false,
     "start_time": "2021-01-25T21:15:56.932392",
     "status": "completed"
    },
    "tags": []
   },
   "outputs": [
    {
     "data": {
      "text/plain": [
       "Index(['Rank', 'Title', 'Genre', 'Description', 'Director', 'Actors', 'Year',\n",
       "       'Runtime (Minutes)', 'Rating', 'Votes', 'Revenue (Millions)',\n",
       "       'Metascore', 'Action', 'Adventure', 'Aniimation', 'Biography', 'Comedy',\n",
       "       'Crime', 'Drama', 'Family', 'Fantasy', 'History', 'Horror', 'Music',\n",
       "       'Musical', 'Mystery', 'Romance', 'Sci-Fi', 'Sport', 'Thriller', 'War',\n",
       "       'Western', 'Success'],\n",
       "      dtype='object')"
      ]
     },
     "execution_count": 6,
     "metadata": {},
     "output_type": "execute_result"
    }
   ],
   "source": [
    "df.columns"
   ]
  },
  {
   "cell_type": "code",
   "execution_count": 7,
   "metadata": {
    "execution": {
     "iopub.execute_input": "2021-01-25T21:15:57.025543Z",
     "iopub.status.busy": "2021-01-25T21:15:57.024728Z",
     "iopub.status.idle": "2021-01-25T21:15:57.029272Z",
     "shell.execute_reply": "2021-01-25T21:15:57.028547Z"
    },
    "papermill": {
     "duration": 0.037728,
     "end_time": "2021-01-25T21:15:57.029385",
     "exception": false,
     "start_time": "2021-01-25T21:15:56.991657",
     "status": "completed"
    },
    "tags": []
   },
   "outputs": [
    {
     "data": {
      "text/plain": [
       "Action,Adventure,Sci-Fi    50\n",
       "Comedy,Drama,Romance       30\n",
       "Drama                      29\n",
       "Drama,Romance              27\n",
       "Comedy                     26\n",
       "                           ..\n",
       "Adventure,Drama,History     1\n",
       "Action,Crime,Fantasy        1\n",
       "Comedy,Mystery              1\n",
       "Adventure,Comedy,Horror     1\n",
       "Comedy,Family,Fantasy       1\n",
       "Name: Genre, Length: 189, dtype: int64"
      ]
     },
     "execution_count": 7,
     "metadata": {},
     "output_type": "execute_result"
    }
   ],
   "source": [
    "df['Genre'].value_counts()"
   ]
  },
  {
   "cell_type": "code",
   "execution_count": 8,
   "metadata": {
    "execution": {
     "iopub.execute_input": "2021-01-25T21:15:57.087446Z",
     "iopub.status.busy": "2021-01-25T21:15:57.086718Z",
     "iopub.status.idle": "2021-01-25T21:15:57.090845Z",
     "shell.execute_reply": "2021-01-25T21:15:57.090252Z"
    },
    "papermill": {
     "duration": 0.037622,
     "end_time": "2021-01-25T21:15:57.090954",
     "exception": false,
     "start_time": "2021-01-25T21:15:57.053332",
     "status": "completed"
    },
    "tags": []
   },
   "outputs": [
    {
     "data": {
      "text/plain": [
       "Ridley Scott          8\n",
       "Paul W.S. Anderson    6\n",
       "David Yates           6\n",
       "Michael Bay           6\n",
       "Antoine Fuqua         5\n",
       "                     ..\n",
       "Kyle Balda            1\n",
       "Chris Renaud          1\n",
       "Peter Billingsley     1\n",
       "Lee Toland Krieger    1\n",
       "Nima Nourizadeh       1\n",
       "Name: Director, Length: 524, dtype: int64"
      ]
     },
     "execution_count": 8,
     "metadata": {},
     "output_type": "execute_result"
    }
   ],
   "source": [
    "df['Director'].value_counts()"
   ]
  },
  {
   "cell_type": "code",
   "execution_count": 9,
   "metadata": {
    "execution": {
     "iopub.execute_input": "2021-01-25T21:15:57.149791Z",
     "iopub.status.busy": "2021-01-25T21:15:57.148859Z",
     "iopub.status.idle": "2021-01-25T21:15:57.153557Z",
     "shell.execute_reply": "2021-01-25T21:15:57.152871Z"
    },
    "papermill": {
     "duration": 0.038314,
     "end_time": "2021-01-25T21:15:57.153674",
     "exception": false,
     "start_time": "2021-01-25T21:15:57.115360",
     "status": "completed"
    },
    "tags": []
   },
   "outputs": [
    {
     "data": {
      "text/plain": [
       "Jennifer Lawrence, Josh Hutcherson, Liam Hemsworth, Woody Harrelson    2\n",
       "Daniel Radcliffe, Emma Watson, Rupert Grint, Michael Gambon            2\n",
       "Shia LaBeouf, Megan Fox, Josh Duhamel, Tyrese Gibson                   2\n",
       "Gerard Butler, Aaron Eckhart, Morgan Freeman,Angela Bassett            2\n",
       "Chris Pratt, Vin Diesel, Bradley Cooper, Zoe Saldana                   1\n",
       "                                                                      ..\n",
       "Chris Evans, Jamie Bell, Tilda Swinton, Ed Harris                      1\n",
       "Chloë Grace Moretz, Matthew Zuk, Gabriela Lopez,Bailey Anne Borders    1\n",
       "Olivia DeJonge, Ed Oxenbould, Deanna Dunagan, Peter McRobbie           1\n",
       "Vin Diesel, Paul Walker, Dwayne Johnson, Jordana Brewster              1\n",
       "Kevin Spacey, Jennifer Garner, Robbie Amell,Cheryl Hines               1\n",
       "Name: Actors, Length: 834, dtype: int64"
      ]
     },
     "execution_count": 9,
     "metadata": {},
     "output_type": "execute_result"
    }
   ],
   "source": [
    "df['Actors'].value_counts()"
   ]
  },
  {
   "cell_type": "code",
   "execution_count": 10,
   "metadata": {
    "execution": {
     "iopub.execute_input": "2021-01-25T21:15:57.210446Z",
     "iopub.status.busy": "2021-01-25T21:15:57.209483Z",
     "iopub.status.idle": "2021-01-25T21:15:58.797727Z",
     "shell.execute_reply": "2021-01-25T21:15:58.797145Z"
    },
    "papermill": {
     "duration": 1.618825,
     "end_time": "2021-01-25T21:15:58.797842",
     "exception": false,
     "start_time": "2021-01-25T21:15:57.179017",
     "status": "completed"
    },
    "tags": []
   },
   "outputs": [
    {
     "data": {
      "text/plain": [
       "<AxesSubplot:>"
      ]
     },
     "execution_count": 10,
     "metadata": {},
     "output_type": "execute_result"
    },
    {
     "data": {
      "image/png": "[encoded data removed]",
      "text/plain": [
       "<Figure size 432x288 with 2 Axes>"
      ]
     },
     "metadata": {
      "needs_background": "light"
     },
     "output_type": "display_data"
    }
   ],
   "source": [
    "import seaborn as sns\n",
    "sns.heatmap(df.isnull(), cmap=\"cubehelix\")"
   ]
  },
  {
   "cell_type": "code",
   "execution_count": 11,
   "metadata": {
    "execution": {
     "iopub.execute_input": "2021-01-25T21:15:58.857653Z",
     "iopub.status.busy": "2021-01-25T21:15:58.856461Z",
     "iopub.status.idle": "2021-01-25T21:15:58.874194Z",
     "shell.execute_reply": "2021-01-25T21:15:58.873597Z"
    },
    "papermill": {
     "duration": 0.049873,
     "end_time": "2021-01-25T21:15:58.874323",
     "exception": false,
     "start_time": "2021-01-25T21:15:58.824450",
     "status": "completed"
    },
    "tags": []
   },
   "outputs": [
    {
     "name": "stderr",
     "output_type": "stream",
     "text": [
      "C:\\Users\\ADMINI~1\\AppData\\Local\\Temp/ipykernel_12936/3493596106.py:1: FutureWarning: Dropping of nuisance columns in DataFrame reductions (with 'numeric_only=None') is deprecated; in a future version this will raise TypeError.  Select only valid columns before calling the reduction.\n",
      "  df = df.fillna(df.median())\n"
     ]
    }
   ],
   "source": [
    "df = df.fillna(df.median())"
   ]
  },
  {
   "cell_type": "markdown",
   "metadata": {
    "papermill": {
     "duration": 0.026654,
     "end_time": "2021-01-25T21:15:58.928528",
     "exception": false,
     "start_time": "2021-01-25T21:15:58.901874",
     "status": "completed"
    },
    "tags": []
   },
   "source": [
    "# LOGISTIC REGRESSION"
   ]
  },
  {
   "cell_type": "code",
   "execution_count": 12,
   "metadata": {
    "execution": {
     "iopub.execute_input": "2021-01-25T21:15:58.989876Z",
     "iopub.status.busy": "2021-01-25T21:15:58.988838Z",
     "iopub.status.idle": "2021-01-25T21:15:58.993108Z",
     "shell.execute_reply": "2021-01-25T21:15:58.992485Z"
    },
    "papermill": {
     "duration": 0.037797,
     "end_time": "2021-01-25T21:15:58.993234",
     "exception": false,
     "start_time": "2021-01-25T21:15:58.955437",
     "status": "completed"
    },
    "tags": []
   },
   "outputs": [
    {
     "data": {
      "text/plain": [
       "Index(['Rank', 'Title', 'Genre', 'Description', 'Director', 'Actors', 'Year',\n",
       "       'Runtime (Minutes)', 'Rating', 'Votes', 'Revenue (Millions)',\n",
       "       'Metascore', 'Action', 'Adventure', 'Aniimation', 'Biography', 'Comedy',\n",
       "       'Crime', 'Drama', 'Family', 'Fantasy', 'History', 'Horror', 'Music',\n",
       "       'Musical', 'Mystery', 'Romance', 'Sci-Fi', 'Sport', 'Thriller', 'War',\n",
       "       'Western', 'Success'],\n",
       "      dtype='object')"
      ]
     },
     "execution_count": 12,
     "metadata": {},
     "output_type": "execute_result"
    }
   ],
   "source": [
    "df.columns"
   ]
  },
  {
   "cell_type": "code",
   "execution_count": 13,
   "metadata": {
    "execution": {
     "iopub.execute_input": "2021-01-25T21:15:59.056111Z",
     "iopub.status.busy": "2021-01-25T21:15:59.055404Z",
     "iopub.status.idle": "2021-01-25T21:15:59.059129Z",
     "shell.execute_reply": "2021-01-25T21:15:59.058504Z"
    },
    "papermill": {
     "duration": 0.038838,
     "end_time": "2021-01-25T21:15:59.059251",
     "exception": false,
     "start_time": "2021-01-25T21:15:59.020413",
     "status": "completed"
    },
    "tags": []
   },
   "outputs": [],
   "source": [
    "x = df[['Year',\n",
    "       'Runtime (Minutes)', 'Rating', 'Votes', 'Revenue (Millions)',\n",
    "       'Metascore', 'Action', 'Adventure', 'Aniimation', 'Biography', 'Comedy',\n",
    "       'Crime', 'Drama', 'Family', 'Fantasy', 'History', 'Horror', 'Music',\n",
    "       'Musical', 'Mystery', 'Romance', 'Sci-Fi', 'Sport', 'Thriller', 'War',\n",
    "       'Western']]\n",
    "y = df['Success']\n"
   ]
  },
  {
   "cell_type": "code",
   "execution_count": 14,
   "metadata": {
    "execution": {
     "iopub.execute_input": "2021-01-25T21:15:59.121395Z",
     "iopub.status.busy": "2021-01-25T21:15:59.120630Z",
     "iopub.status.idle": "2021-01-25T21:15:59.255231Z",
     "shell.execute_reply": "2021-01-25T21:15:59.254599Z"
    },
    "papermill": {
     "duration": 0.167723,
     "end_time": "2021-01-25T21:15:59.255348",
     "exception": false,
     "start_time": "2021-01-25T21:15:59.087625",
     "status": "completed"
    },
    "tags": []
   },
   "outputs": [],
   "source": [
    "from sklearn.model_selection import train_test_split\n",
    "x_train,x_test,y_train,y_test= train_test_split(x,y,test_size=0.2,stratify=y)"
   ]
  },
  {
   "cell_type": "code",
   "execution_count": 15,
   "metadata": {
    "execution": {
     "iopub.execute_input": "2021-01-25T21:15:59.316669Z",
     "iopub.status.busy": "2021-01-25T21:15:59.315865Z",
     "iopub.status.idle": "2021-01-25T21:15:59.464048Z",
     "shell.execute_reply": "2021-01-25T21:15:59.464893Z"
    },
    "papermill": {
     "duration": 0.181963,
     "end_time": "2021-01-25T21:15:59.465092",
     "exception": false,
     "start_time": "2021-01-25T21:15:59.283129",
     "status": "completed"
    },
    "tags": []
   },
   "outputs": [
    {
     "data": {
      "text/plain": [
       "LogisticRegression()"
      ]
     },
     "execution_count": 15,
     "metadata": {},
     "output_type": "execute_result"
    }
   ],
   "source": [
    "from sklearn.linear_model import LogisticRegression\n",
    "log = LogisticRegression()\n",
    "log.fit(x_train,y_train)"
   ]
  },
  {
   "cell_type": "code",
   "execution_count": 16,
   "metadata": {
    "execution": {
     "iopub.execute_input": "2021-01-25T21:15:59.533677Z",
     "iopub.status.busy": "2021-01-25T21:15:59.532585Z",
     "iopub.status.idle": "2021-01-25T21:15:59.537707Z",
     "shell.execute_reply": "2021-01-25T21:15:59.538271Z"
    },
    "papermill": {
     "duration": 0.041082,
     "end_time": "2021-01-25T21:15:59.538425",
     "exception": false,
     "start_time": "2021-01-25T21:15:59.497343",
     "status": "completed"
    },
    "tags": []
   },
   "outputs": [
    {
     "data": {
      "text/plain": [
       "0.9166666666666666"
      ]
     },
     "execution_count": 16,
     "metadata": {},
     "output_type": "execute_result"
    }
   ],
   "source": [
    "log.score(x_test,y_test)"
   ]
  },
  {
   "cell_type": "code",
   "execution_count": 17,
   "metadata": {
    "execution": {
     "iopub.execute_input": "2021-01-25T21:15:59.600346Z",
     "iopub.status.busy": "2021-01-25T21:15:59.599161Z",
     "iopub.status.idle": "2021-01-25T21:15:59.609268Z",
     "shell.execute_reply": "2021-01-25T21:15:59.608635Z"
    },
    "papermill": {
     "duration": 0.042344,
     "end_time": "2021-01-25T21:15:59.609401",
     "exception": false,
     "start_time": "2021-01-25T21:15:59.567057",
     "status": "completed"
    },
    "tags": []
   },
   "outputs": [],
   "source": [
    "from sklearn.metrics import confusion_matrix\n",
    "clf = confusion_matrix(y_test,log.predict(x_test))"
   ]
  },
  {
   "cell_type": "code",
   "execution_count": 18,
   "metadata": {
    "execution": {
     "iopub.execute_input": "2021-01-25T21:15:59.679647Z",
     "iopub.status.busy": "2021-01-25T21:15:59.678926Z",
     "iopub.status.idle": "2021-01-25T21:15:59.833995Z",
     "shell.execute_reply": "2021-01-25T21:15:59.834497Z"
    },
    "papermill": {
     "duration": 0.196408,
     "end_time": "2021-01-25T21:15:59.834655",
     "exception": false,
     "start_time": "2021-01-25T21:15:59.638247",
     "status": "completed"
    },
    "tags": []
   },
   "outputs": [
    {
     "data": {
      "text/plain": [
       "<AxesSubplot:>"
      ]
     },
     "execution_count": 18,
     "metadata": {},
     "output_type": "execute_result"
    },
    {
     "data": {
      "image/png": "[encoded data removed]",
      "text/plain": [
       "<Figure size 432x288 with 2 Axes>"
      ]
     },
     "metadata": {
      "needs_background": "light"
     },
     "output_type": "display_data"
    }
   ],
   "source": [
    "sns.heatmap(clf,annot=True, cmap=\"cubehelix\")"
   ]
  },
  {
   "cell_type": "markdown",
   "metadata": {
    "papermill": {
     "duration": 0.031538,
     "end_time": "2021-01-25T21:15:59.896442",
     "exception": false,
     "start_time": "2021-01-25T21:15:59.864904",
     "status": "completed"
    },
    "tags": []
   },
   "source": [
    "# SOME OPTIMAZTIONS"
   ]
  },
  {
   "cell_type": "code",
   "execution_count": 19,
   "metadata": {
    "execution": {
     "iopub.execute_input": "2021-01-25T21:15:59.960572Z",
     "iopub.status.busy": "2021-01-25T21:15:59.959518Z",
     "iopub.status.idle": "2021-01-25T21:15:59.964301Z",
     "shell.execute_reply": "2021-01-25T21:15:59.964771Z"
    },
    "papermill": {
     "duration": 0.038321,
     "end_time": "2021-01-25T21:15:59.964934",
     "exception": false,
     "start_time": "2021-01-25T21:15:59.926613",
     "status": "completed"
    },
    "tags": []
   },
   "outputs": [],
   "source": [
    "#normalising all columns\n",
    "x_train_opt = x_train.copy()\n",
    "x_test_opt = x_test.copy()"
   ]
  },
  {
   "cell_type": "code",
   "execution_count": 20,
   "metadata": {
    "execution": {
     "iopub.execute_input": "2021-01-25T21:16:00.032340Z",
     "iopub.status.busy": "2021-01-25T21:16:00.031259Z",
     "iopub.status.idle": "2021-01-25T21:16:00.046818Z",
     "shell.execute_reply": "2021-01-25T21:16:00.046107Z"
    },
    "papermill": {
     "duration": 0.050054,
     "end_time": "2021-01-25T21:16:00.046938",
     "exception": false,
     "start_time": "2021-01-25T21:15:59.996884",
     "status": "completed"
    },
    "tags": []
   },
   "outputs": [],
   "source": [
    "from sklearn.preprocessing import StandardScaler\n",
    "x_train_opt = StandardScaler().fit_transform(x_train_opt)\n",
    "x_test_opt = StandardScaler().fit_transform(x_test_opt)"
   ]
  },
  {
   "cell_type": "code",
   "execution_count": 21,
   "metadata": {
    "execution": {
     "iopub.execute_input": "2021-01-25T21:16:00.114379Z",
     "iopub.status.busy": "2021-01-25T21:16:00.113235Z",
     "iopub.status.idle": "2021-01-25T21:16:00.116683Z",
     "shell.execute_reply": "2021-01-25T21:16:00.115860Z"
    },
    "papermill": {
     "duration": 0.039259,
     "end_time": "2021-01-25T21:16:00.116823",
     "exception": false,
     "start_time": "2021-01-25T21:16:00.077564",
     "status": "completed"
    },
    "tags": []
   },
   "outputs": [],
   "source": [
    "#fitting again in Logistic Regression"
   ]
  },
  {
   "cell_type": "code",
   "execution_count": 22,
   "metadata": {
    "execution": {
     "iopub.execute_input": "2021-01-25T21:16:00.184025Z",
     "iopub.status.busy": "2021-01-25T21:16:00.183221Z",
     "iopub.status.idle": "2021-01-25T21:16:00.202644Z",
     "shell.execute_reply": "2021-01-25T21:16:00.203373Z"
    },
    "papermill": {
     "duration": 0.054878,
     "end_time": "2021-01-25T21:16:00.203583",
     "exception": false,
     "start_time": "2021-01-25T21:16:00.148705",
     "status": "completed"
    },
    "tags": []
   },
   "outputs": [
    {
     "data": {
      "text/plain": [
       "LogisticRegression()"
      ]
     },
     "execution_count": 22,
     "metadata": {},
     "output_type": "execute_result"
    }
   ],
   "source": [
    "log.fit(x_train_opt,y_train)"
   ]
  },
  {
   "cell_type": "code",
   "execution_count": 23,
   "metadata": {
    "execution": {
     "iopub.execute_input": "2021-01-25T21:16:00.278130Z",
     "iopub.status.busy": "2021-01-25T21:16:00.277273Z",
     "iopub.status.idle": "2021-01-25T21:16:00.281067Z",
     "shell.execute_reply": "2021-01-25T21:16:00.281642Z"
    },
    "papermill": {
     "duration": 0.04312,
     "end_time": "2021-01-25T21:16:00.281802",
     "exception": false,
     "start_time": "2021-01-25T21:16:00.238682",
     "status": "completed"
    },
    "tags": []
   },
   "outputs": [
    {
     "data": {
      "text/plain": [
       "0.9166666666666666"
      ]
     },
     "execution_count": 23,
     "metadata": {},
     "output_type": "execute_result"
    }
   ],
   "source": [
    "log.score(x_test_opt,y_test)"
   ]
  },
  {
   "cell_type": "markdown",
   "metadata": {
    "papermill": {
     "duration": 0.031048,
     "end_time": "2021-01-25T21:16:00.345644",
     "exception": false,
     "start_time": "2021-01-25T21:16:00.314596",
     "status": "completed"
    },
    "tags": []
   },
   "source": [
    "Model Performance went down so we would not pursuit this more"
   ]
  },
  {
   "cell_type": "markdown",
   "metadata": {
    "papermill": {
     "duration": 0.036927,
     "end_time": "2021-01-25T21:16:00.427602",
     "exception": false,
     "start_time": "2021-01-25T21:16:00.390675",
     "status": "completed"
    },
    "tags": []
   },
   "source": [
    "# KNN"
   ]
  },
  {
   "cell_type": "code",
   "execution_count": 24,
   "metadata": {
    "execution": {
     "iopub.execute_input": "2021-01-25T21:16:00.512914Z",
     "iopub.status.busy": "2021-01-25T21:16:00.511890Z",
     "iopub.status.idle": "2021-01-25T21:16:00.688251Z",
     "shell.execute_reply": "2021-01-25T21:16:00.688730Z"
    },
    "papermill": {
     "duration": 0.218542,
     "end_time": "2021-01-25T21:16:00.688897",
     "exception": false,
     "start_time": "2021-01-25T21:16:00.470355",
     "status": "completed"
    },
    "tags": []
   },
   "outputs": [
    {
     "data": {
      "text/plain": [
       "KNeighborsClassifier(n_neighbors=40)"
      ]
     },
     "execution_count": 24,
     "metadata": {},
     "output_type": "execute_result"
    }
   ],
   "source": [
    "from sklearn.neighbors import KNeighborsClassifier\n",
    "kn = KNeighborsClassifier(n_neighbors=40)\n",
    "kn.fit(x_train,y_train)"
   ]
  },
  {
   "cell_type": "code",
   "execution_count": 25,
   "metadata": {
    "execution": {
     "iopub.execute_input": "2021-01-25T21:16:00.757019Z",
     "iopub.status.busy": "2021-01-25T21:16:00.755932Z",
     "iopub.status.idle": "2021-01-25T21:16:00.769786Z",
     "shell.execute_reply": "2021-01-25T21:16:00.770331Z"
    },
    "papermill": {
     "duration": 0.049412,
     "end_time": "2021-01-25T21:16:00.770487",
     "exception": false,
     "start_time": "2021-01-25T21:16:00.721075",
     "status": "completed"
    },
    "tags": []
   },
   "outputs": [
    {
     "data": {
      "text/plain": [
       "0.8988095238095238"
      ]
     },
     "execution_count": 25,
     "metadata": {},
     "output_type": "execute_result"
    }
   ],
   "source": [
    "\n",
    "kn.score(x_test,y_test)"
   ]
  },
  {
   "cell_type": "markdown",
   "metadata": {
    "papermill": {
     "duration": 0.031823,
     "end_time": "2021-01-25T21:16:00.834947",
     "exception": false,
     "start_time": "2021-01-25T21:16:00.803124",
     "status": "completed"
    },
    "tags": []
   },
   "source": [
    "# DECISION TREE"
   ]
  },
  {
   "cell_type": "code",
   "execution_count": 26,
   "metadata": {
    "execution": {
     "iopub.execute_input": "2021-01-25T21:16:00.913661Z",
     "iopub.status.busy": "2021-01-25T21:16:00.912625Z",
     "iopub.status.idle": "2021-01-25T21:16:00.961091Z",
     "shell.execute_reply": "2021-01-25T21:16:00.961774Z"
    },
    "papermill": {
     "duration": 0.094933,
     "end_time": "2021-01-25T21:16:00.961930",
     "exception": false,
     "start_time": "2021-01-25T21:16:00.866997",
     "status": "completed"
    },
    "tags": []
   },
   "outputs": [
    {
     "data": {
      "text/plain": [
       "0.9940476190476191"
      ]
     },
     "execution_count": 26,
     "metadata": {},
     "output_type": "execute_result"
    }
   ],
   "source": [
    "from sklearn.tree import DecisionTreeClassifier\n",
    "tree = DecisionTreeClassifier()\n",
    "tree.fit(x_train,y_train)\n",
    "tree.score(x_test,y_test)"
   ]
  },
  {
   "cell_type": "code",
   "execution_count": 27,
   "metadata": {
    "execution": {
     "iopub.execute_input": "2021-01-25T21:16:01.031644Z",
     "iopub.status.busy": "2021-01-25T21:16:01.030845Z",
     "iopub.status.idle": "2021-01-25T21:16:01.041130Z",
     "shell.execute_reply": "2021-01-25T21:16:01.040369Z"
    },
    "papermill": {
     "duration": 0.04584,
     "end_time": "2021-01-25T21:16:01.041325",
     "exception": false,
     "start_time": "2021-01-25T21:16:00.995485",
     "status": "completed"
    },
    "tags": []
   },
   "outputs": [
    {
     "data": {
      "text/plain": [
       "1.0"
      ]
     },
     "execution_count": 27,
     "metadata": {},
     "output_type": "execute_result"
    }
   ],
   "source": [
    "tree.score(x_train,y_train)"
   ]
  },
  {
   "cell_type": "code",
   "execution_count": 28,
   "metadata": {
    "execution": {
     "iopub.execute_input": "2021-01-25T21:16:01.118320Z",
     "iopub.status.busy": "2021-01-25T21:16:01.117579Z",
     "iopub.status.idle": "2021-01-25T21:16:01.121124Z",
     "shell.execute_reply": "2021-01-25T21:16:01.120550Z"
    },
    "papermill": {
     "duration": 0.045693,
     "end_time": "2021-01-25T21:16:01.121250",
     "exception": false,
     "start_time": "2021-01-25T21:16:01.075557",
     "status": "completed"
    },
    "tags": []
   },
   "outputs": [],
   "source": [
    "from sklearn.metrics import confusion_matrix\n",
    "clf = confusion_matrix(y_test,tree.predict(x_test))"
   ]
  },
  {
   "cell_type": "code",
   "execution_count": 29,
   "metadata": {
    "execution": {
     "iopub.execute_input": "2021-01-25T21:16:01.194031Z",
     "iopub.status.busy": "2021-01-25T21:16:01.193239Z",
     "iopub.status.idle": "2021-01-25T21:16:01.196302Z",
     "shell.execute_reply": "2021-01-25T21:16:01.196823Z"
    },
    "papermill": {
     "duration": 0.042457,
     "end_time": "2021-01-25T21:16:01.196992",
     "exception": false,
     "start_time": "2021-01-25T21:16:01.154535",
     "status": "completed"
    },
    "tags": []
   },
   "outputs": [
    {
     "data": {
      "text/plain": [
       "array([[137,   1],\n",
       "       [  0,  30]], dtype=int64)"
      ]
     },
     "execution_count": 29,
     "metadata": {},
     "output_type": "execute_result"
    }
   ],
   "source": [
    "clf"
   ]
  },
  {
   "cell_type": "code",
   "execution_count": 30,
   "metadata": {
    "execution": {
     "iopub.execute_input": "2021-01-25T21:16:01.269301Z",
     "iopub.status.busy": "2021-01-25T21:16:01.268485Z",
     "iopub.status.idle": "2021-01-25T21:16:01.446237Z",
     "shell.execute_reply": "2021-01-25T21:16:01.446780Z"
    },
    "papermill": {
     "duration": 0.216225,
     "end_time": "2021-01-25T21:16:01.447040",
     "exception": false,
     "start_time": "2021-01-25T21:16:01.230815",
     "status": "completed"
    },
    "tags": []
   },
   "outputs": [
    {
     "data": {
      "text/plain": [
       "<AxesSubplot:>"
      ]
     },
     "execution_count": 30,
     "metadata": {},
     "output_type": "execute_result"
    },
    {
     "data": {
      "image/png": "[encoded data removed]",
      "text/plain": [
       "<Figure size 432x288 with 2 Axes>"
      ]
     },
     "metadata": {
      "needs_background": "light"
     },
     "output_type": "display_data"
    }
   ],
   "source": [
    "sns.heatmap(clf,annot=True, cmap=\"cubehelix\")"
   ]
  },
  {
   "cell_type": "code",
   "execution_count": null,
   "metadata": {
    "papermill": {
     "duration": 0.03518,
     "end_time": "2021-01-25T21:16:01.517442",
     "exception": false,
     "start_time": "2021-01-25T21:16:01.482262",
     "status": "completed"
    },
    "tags": []
   },
   "outputs": [],
   "source": []
  }
 ],
 "metadata": {
  "kernelspec": {
   "display_name": "Python 3 (ipykernel)",
   "language": "python",
   "name": "python3"
  },
  "language_info": {
   "codemirror_mode": {
    "name": "ipython",
    "version": 3
   },
   "file_extension": ".py",
   "mimetype": "text/x-python",
   "name": "python",
   "nbconvert_exporter": "python",
   "pygments_lexer": "ipython3",
   "version": "3.10.2"
  },
  "papermill": {
   "duration": 10.414245,
   "end_time": "2021-01-25T21:16:01.660197",
   "environment_variables": {},
   "exception": null,
   "input_path": "__notebook__.ipynb",
   "output_path": "__notebook__.ipynb",
   "parameters": {},
   "start_time": "2021-01-25T21:15:51.245952",
   "version": "2.1.0"
  }
 },
 "nbformat": 4,
 "nbformat_minor": 4
}
